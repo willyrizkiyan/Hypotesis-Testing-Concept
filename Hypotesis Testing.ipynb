{
  "nbformat": 4,
  "nbformat_minor": 0,
  "metadata": {
    "colab": {
      "name": "HW_Hypotesis Testing Concept_Willy Rizkiyan.ipynb",
      "provenance": [],
      "collapsed_sections": []
    },
    "kernelspec": {
      "name": "python3",
      "display_name": "Python 3"
    },
    "language_info": {
      "name": "python"
    }
  },
  "cells": [
    {
      "cell_type": "code",
      "execution_count": 35,
      "metadata": {
        "id": "uOCPdM8vwE5W"
      },
      "outputs": [],
      "source": [
        "import pandas as pd\n",
        "import numpy as np\n",
        "import seaborn as sns\n",
        "import matplotlib.pyplot as plt\n",
        "import scipy.stats as st"
      ]
    },
    {
      "cell_type": "markdown",
      "source": [
        "# Descriptive Statistic"
      ],
      "metadata": {
        "id": "81MQhm561Hlb"
      }
    },
    {
      "cell_type": "markdown",
      "source": [
        "## Data Preparation"
      ],
      "metadata": {
        "id": "VlUfVej91L-Z"
      }
    },
    {
      "cell_type": "code",
      "source": [
        "data_frame=pd.read_csv('https://raw.githubusercontent.com/willyrizkiyan/Hypotesis-Testing-Concept/main/marketing_campaign.csv',sep='\\t') # Read CSV"
      ],
      "metadata": {
        "id": "pn3VNwOcwrCl"
      },
      "execution_count": 36,
      "outputs": []
    },
    {
      "cell_type": "code",
      "source": [
        "data_frame.info() # Check Info Data Frame"
      ],
      "metadata": {
        "colab": {
          "base_uri": "https://localhost:8080/"
        },
        "id": "PsTBAlqlTC_M",
        "outputId": "2b62082c-d754-42d9-f466-21e1611555f6"
      },
      "execution_count": 37,
      "outputs": [
        {
          "output_type": "stream",
          "name": "stdout",
          "text": [
            "<class 'pandas.core.frame.DataFrame'>\n",
            "RangeIndex: 2240 entries, 0 to 2239\n",
            "Data columns (total 29 columns):\n",
            " #   Column               Non-Null Count  Dtype  \n",
            "---  ------               --------------  -----  \n",
            " 0   ID                   2240 non-null   int64  \n",
            " 1   Year_Birth           2240 non-null   int64  \n",
            " 2   Education            2240 non-null   object \n",
            " 3   Marital_Status       2240 non-null   object \n",
            " 4   Income               2216 non-null   float64\n",
            " 5   Kidhome              2240 non-null   int64  \n",
            " 6   Teenhome             2240 non-null   int64  \n",
            " 7   Dt_Customer          2240 non-null   object \n",
            " 8   Recency              2240 non-null   int64  \n",
            " 9   MntWines             2240 non-null   int64  \n",
            " 10  MntFruits            2240 non-null   int64  \n",
            " 11  MntMeatProducts      2240 non-null   int64  \n",
            " 12  MntFishProducts      2240 non-null   int64  \n",
            " 13  MntSweetProducts     2240 non-null   int64  \n",
            " 14  MntGoldProds         2240 non-null   int64  \n",
            " 15  NumDealsPurchases    2240 non-null   int64  \n",
            " 16  NumWebPurchases      2240 non-null   int64  \n",
            " 17  NumCatalogPurchases  2240 non-null   int64  \n",
            " 18  NumStorePurchases    2240 non-null   int64  \n",
            " 19  NumWebVisitsMonth    2240 non-null   int64  \n",
            " 20  AcceptedCmp3         2240 non-null   int64  \n",
            " 21  AcceptedCmp4         2240 non-null   int64  \n",
            " 22  AcceptedCmp5         2240 non-null   int64  \n",
            " 23  AcceptedCmp1         2240 non-null   int64  \n",
            " 24  AcceptedCmp2         2240 non-null   int64  \n",
            " 25  Complain             2240 non-null   int64  \n",
            " 26  Z_CostContact        2240 non-null   int64  \n",
            " 27  Z_Revenue            2240 non-null   int64  \n",
            " 28  Response             2240 non-null   int64  \n",
            "dtypes: float64(1), int64(25), object(3)\n",
            "memory usage: 507.6+ KB\n"
          ]
        }
      ]
    },
    {
      "cell_type": "code",
      "source": [
        "df=data_frame.dropna() # Drop NA on Income\n",
        "df.info()"
      ],
      "metadata": {
        "colab": {
          "base_uri": "https://localhost:8080/"
        },
        "id": "yMQS2VmFTahz",
        "outputId": "c5443936-5c6b-4ae5-fced-430c304c541d"
      },
      "execution_count": 38,
      "outputs": [
        {
          "output_type": "stream",
          "name": "stdout",
          "text": [
            "<class 'pandas.core.frame.DataFrame'>\n",
            "Int64Index: 2216 entries, 0 to 2239\n",
            "Data columns (total 29 columns):\n",
            " #   Column               Non-Null Count  Dtype  \n",
            "---  ------               --------------  -----  \n",
            " 0   ID                   2216 non-null   int64  \n",
            " 1   Year_Birth           2216 non-null   int64  \n",
            " 2   Education            2216 non-null   object \n",
            " 3   Marital_Status       2216 non-null   object \n",
            " 4   Income               2216 non-null   float64\n",
            " 5   Kidhome              2216 non-null   int64  \n",
            " 6   Teenhome             2216 non-null   int64  \n",
            " 7   Dt_Customer          2216 non-null   object \n",
            " 8   Recency              2216 non-null   int64  \n",
            " 9   MntWines             2216 non-null   int64  \n",
            " 10  MntFruits            2216 non-null   int64  \n",
            " 11  MntMeatProducts      2216 non-null   int64  \n",
            " 12  MntFishProducts      2216 non-null   int64  \n",
            " 13  MntSweetProducts     2216 non-null   int64  \n",
            " 14  MntGoldProds         2216 non-null   int64  \n",
            " 15  NumDealsPurchases    2216 non-null   int64  \n",
            " 16  NumWebPurchases      2216 non-null   int64  \n",
            " 17  NumCatalogPurchases  2216 non-null   int64  \n",
            " 18  NumStorePurchases    2216 non-null   int64  \n",
            " 19  NumWebVisitsMonth    2216 non-null   int64  \n",
            " 20  AcceptedCmp3         2216 non-null   int64  \n",
            " 21  AcceptedCmp4         2216 non-null   int64  \n",
            " 22  AcceptedCmp5         2216 non-null   int64  \n",
            " 23  AcceptedCmp1         2216 non-null   int64  \n",
            " 24  AcceptedCmp2         2216 non-null   int64  \n",
            " 25  Complain             2216 non-null   int64  \n",
            " 26  Z_CostContact        2216 non-null   int64  \n",
            " 27  Z_Revenue            2216 non-null   int64  \n",
            " 28  Response             2216 non-null   int64  \n",
            "dtypes: float64(1), int64(25), object(3)\n",
            "memory usage: 519.4+ KB\n"
          ]
        }
      ]
    },
    {
      "cell_type": "code",
      "source": [
        "df.head()"
      ],
      "metadata": {
        "colab": {
          "base_uri": "https://localhost:8080/",
          "height": 300
        },
        "id": "VUvxRJvB1vpC",
        "outputId": "1f640f94-a74e-46e2-fcf4-62e62b3ff0dc"
      },
      "execution_count": 39,
      "outputs": [
        {
          "output_type": "execute_result",
          "data": {
            "text/plain": [
              "     ID  Year_Birth   Education Marital_Status   Income  Kidhome  Teenhome  \\\n",
              "0  5524        1957  Graduation         Single  58138.0        0         0   \n",
              "1  2174        1954  Graduation         Single  46344.0        1         1   \n",
              "2  4141        1965  Graduation       Together  71613.0        0         0   \n",
              "3  6182        1984  Graduation       Together  26646.0        1         0   \n",
              "4  5324        1981         PhD        Married  58293.0        1         0   \n",
              "\n",
              "  Dt_Customer  Recency  MntWines  ...  NumWebVisitsMonth  AcceptedCmp3  \\\n",
              "0  04-09-2012       58       635  ...                  7             0   \n",
              "1  08-03-2014       38        11  ...                  5             0   \n",
              "2  21-08-2013       26       426  ...                  4             0   \n",
              "3  10-02-2014       26        11  ...                  6             0   \n",
              "4  19-01-2014       94       173  ...                  5             0   \n",
              "\n",
              "   AcceptedCmp4  AcceptedCmp5  AcceptedCmp1  AcceptedCmp2  Complain  \\\n",
              "0             0             0             0             0         0   \n",
              "1             0             0             0             0         0   \n",
              "2             0             0             0             0         0   \n",
              "3             0             0             0             0         0   \n",
              "4             0             0             0             0         0   \n",
              "\n",
              "   Z_CostContact  Z_Revenue  Response  \n",
              "0              3         11         1  \n",
              "1              3         11         0  \n",
              "2              3         11         0  \n",
              "3              3         11         0  \n",
              "4              3         11         0  \n",
              "\n",
              "[5 rows x 29 columns]"
            ],
            "text/html": [
              "\n",
              "  <div id=\"df-60e78f62-de2d-4377-a426-d830dbf8a03a\">\n",
              "    <div class=\"colab-df-container\">\n",
              "      <div>\n",
              "<style scoped>\n",
              "    .dataframe tbody tr th:only-of-type {\n",
              "        vertical-align: middle;\n",
              "    }\n",
              "\n",
              "    .dataframe tbody tr th {\n",
              "        vertical-align: top;\n",
              "    }\n",
              "\n",
              "    .dataframe thead th {\n",
              "        text-align: right;\n",
              "    }\n",
              "</style>\n",
              "<table border=\"1\" class=\"dataframe\">\n",
              "  <thead>\n",
              "    <tr style=\"text-align: right;\">\n",
              "      <th></th>\n",
              "      <th>ID</th>\n",
              "      <th>Year_Birth</th>\n",
              "      <th>Education</th>\n",
              "      <th>Marital_Status</th>\n",
              "      <th>Income</th>\n",
              "      <th>Kidhome</th>\n",
              "      <th>Teenhome</th>\n",
              "      <th>Dt_Customer</th>\n",
              "      <th>Recency</th>\n",
              "      <th>MntWines</th>\n",
              "      <th>...</th>\n",
              "      <th>NumWebVisitsMonth</th>\n",
              "      <th>AcceptedCmp3</th>\n",
              "      <th>AcceptedCmp4</th>\n",
              "      <th>AcceptedCmp5</th>\n",
              "      <th>AcceptedCmp1</th>\n",
              "      <th>AcceptedCmp2</th>\n",
              "      <th>Complain</th>\n",
              "      <th>Z_CostContact</th>\n",
              "      <th>Z_Revenue</th>\n",
              "      <th>Response</th>\n",
              "    </tr>\n",
              "  </thead>\n",
              "  <tbody>\n",
              "    <tr>\n",
              "      <th>0</th>\n",
              "      <td>5524</td>\n",
              "      <td>1957</td>\n",
              "      <td>Graduation</td>\n",
              "      <td>Single</td>\n",
              "      <td>58138.0</td>\n",
              "      <td>0</td>\n",
              "      <td>0</td>\n",
              "      <td>04-09-2012</td>\n",
              "      <td>58</td>\n",
              "      <td>635</td>\n",
              "      <td>...</td>\n",
              "      <td>7</td>\n",
              "      <td>0</td>\n",
              "      <td>0</td>\n",
              "      <td>0</td>\n",
              "      <td>0</td>\n",
              "      <td>0</td>\n",
              "      <td>0</td>\n",
              "      <td>3</td>\n",
              "      <td>11</td>\n",
              "      <td>1</td>\n",
              "    </tr>\n",
              "    <tr>\n",
              "      <th>1</th>\n",
              "      <td>2174</td>\n",
              "      <td>1954</td>\n",
              "      <td>Graduation</td>\n",
              "      <td>Single</td>\n",
              "      <td>46344.0</td>\n",
              "      <td>1</td>\n",
              "      <td>1</td>\n",
              "      <td>08-03-2014</td>\n",
              "      <td>38</td>\n",
              "      <td>11</td>\n",
              "      <td>...</td>\n",
              "      <td>5</td>\n",
              "      <td>0</td>\n",
              "      <td>0</td>\n",
              "      <td>0</td>\n",
              "      <td>0</td>\n",
              "      <td>0</td>\n",
              "      <td>0</td>\n",
              "      <td>3</td>\n",
              "      <td>11</td>\n",
              "      <td>0</td>\n",
              "    </tr>\n",
              "    <tr>\n",
              "      <th>2</th>\n",
              "      <td>4141</td>\n",
              "      <td>1965</td>\n",
              "      <td>Graduation</td>\n",
              "      <td>Together</td>\n",
              "      <td>71613.0</td>\n",
              "      <td>0</td>\n",
              "      <td>0</td>\n",
              "      <td>21-08-2013</td>\n",
              "      <td>26</td>\n",
              "      <td>426</td>\n",
              "      <td>...</td>\n",
              "      <td>4</td>\n",
              "      <td>0</td>\n",
              "      <td>0</td>\n",
              "      <td>0</td>\n",
              "      <td>0</td>\n",
              "      <td>0</td>\n",
              "      <td>0</td>\n",
              "      <td>3</td>\n",
              "      <td>11</td>\n",
              "      <td>0</td>\n",
              "    </tr>\n",
              "    <tr>\n",
              "      <th>3</th>\n",
              "      <td>6182</td>\n",
              "      <td>1984</td>\n",
              "      <td>Graduation</td>\n",
              "      <td>Together</td>\n",
              "      <td>26646.0</td>\n",
              "      <td>1</td>\n",
              "      <td>0</td>\n",
              "      <td>10-02-2014</td>\n",
              "      <td>26</td>\n",
              "      <td>11</td>\n",
              "      <td>...</td>\n",
              "      <td>6</td>\n",
              "      <td>0</td>\n",
              "      <td>0</td>\n",
              "      <td>0</td>\n",
              "      <td>0</td>\n",
              "      <td>0</td>\n",
              "      <td>0</td>\n",
              "      <td>3</td>\n",
              "      <td>11</td>\n",
              "      <td>0</td>\n",
              "    </tr>\n",
              "    <tr>\n",
              "      <th>4</th>\n",
              "      <td>5324</td>\n",
              "      <td>1981</td>\n",
              "      <td>PhD</td>\n",
              "      <td>Married</td>\n",
              "      <td>58293.0</td>\n",
              "      <td>1</td>\n",
              "      <td>0</td>\n",
              "      <td>19-01-2014</td>\n",
              "      <td>94</td>\n",
              "      <td>173</td>\n",
              "      <td>...</td>\n",
              "      <td>5</td>\n",
              "      <td>0</td>\n",
              "      <td>0</td>\n",
              "      <td>0</td>\n",
              "      <td>0</td>\n",
              "      <td>0</td>\n",
              "      <td>0</td>\n",
              "      <td>3</td>\n",
              "      <td>11</td>\n",
              "      <td>0</td>\n",
              "    </tr>\n",
              "  </tbody>\n",
              "</table>\n",
              "<p>5 rows × 29 columns</p>\n",
              "</div>\n",
              "      <button class=\"colab-df-convert\" onclick=\"convertToInteractive('df-60e78f62-de2d-4377-a426-d830dbf8a03a')\"\n",
              "              title=\"Convert this dataframe to an interactive table.\"\n",
              "              style=\"display:none;\">\n",
              "        \n",
              "  <svg xmlns=\"http://www.w3.org/2000/svg\" height=\"24px\"viewBox=\"0 0 24 24\"\n",
              "       width=\"24px\">\n",
              "    <path d=\"M0 0h24v24H0V0z\" fill=\"none\"/>\n",
              "    <path d=\"M18.56 5.44l.94 2.06.94-2.06 2.06-.94-2.06-.94-.94-2.06-.94 2.06-2.06.94zm-11 1L8.5 8.5l.94-2.06 2.06-.94-2.06-.94L8.5 2.5l-.94 2.06-2.06.94zm10 10l.94 2.06.94-2.06 2.06-.94-2.06-.94-.94-2.06-.94 2.06-2.06.94z\"/><path d=\"M17.41 7.96l-1.37-1.37c-.4-.4-.92-.59-1.43-.59-.52 0-1.04.2-1.43.59L10.3 9.45l-7.72 7.72c-.78.78-.78 2.05 0 2.83L4 21.41c.39.39.9.59 1.41.59.51 0 1.02-.2 1.41-.59l7.78-7.78 2.81-2.81c.8-.78.8-2.07 0-2.86zM5.41 20L4 18.59l7.72-7.72 1.47 1.35L5.41 20z\"/>\n",
              "  </svg>\n",
              "      </button>\n",
              "      \n",
              "  <style>\n",
              "    .colab-df-container {\n",
              "      display:flex;\n",
              "      flex-wrap:wrap;\n",
              "      gap: 12px;\n",
              "    }\n",
              "\n",
              "    .colab-df-convert {\n",
              "      background-color: #E8F0FE;\n",
              "      border: none;\n",
              "      border-radius: 50%;\n",
              "      cursor: pointer;\n",
              "      display: none;\n",
              "      fill: #1967D2;\n",
              "      height: 32px;\n",
              "      padding: 0 0 0 0;\n",
              "      width: 32px;\n",
              "    }\n",
              "\n",
              "    .colab-df-convert:hover {\n",
              "      background-color: #E2EBFA;\n",
              "      box-shadow: 0px 1px 2px rgba(60, 64, 67, 0.3), 0px 1px 3px 1px rgba(60, 64, 67, 0.15);\n",
              "      fill: #174EA6;\n",
              "    }\n",
              "\n",
              "    [theme=dark] .colab-df-convert {\n",
              "      background-color: #3B4455;\n",
              "      fill: #D2E3FC;\n",
              "    }\n",
              "\n",
              "    [theme=dark] .colab-df-convert:hover {\n",
              "      background-color: #434B5C;\n",
              "      box-shadow: 0px 1px 3px 1px rgba(0, 0, 0, 0.15);\n",
              "      filter: drop-shadow(0px 1px 2px rgba(0, 0, 0, 0.3));\n",
              "      fill: #FFFFFF;\n",
              "    }\n",
              "  </style>\n",
              "\n",
              "      <script>\n",
              "        const buttonEl =\n",
              "          document.querySelector('#df-60e78f62-de2d-4377-a426-d830dbf8a03a button.colab-df-convert');\n",
              "        buttonEl.style.display =\n",
              "          google.colab.kernel.accessAllowed ? 'block' : 'none';\n",
              "\n",
              "        async function convertToInteractive(key) {\n",
              "          const element = document.querySelector('#df-60e78f62-de2d-4377-a426-d830dbf8a03a');\n",
              "          const dataTable =\n",
              "            await google.colab.kernel.invokeFunction('convertToInteractive',\n",
              "                                                     [key], {});\n",
              "          if (!dataTable) return;\n",
              "\n",
              "          const docLinkHtml = 'Like what you see? Visit the ' +\n",
              "            '<a target=\"_blank\" href=https://colab.research.google.com/notebooks/data_table.ipynb>data table notebook</a>'\n",
              "            + ' to learn more about interactive tables.';\n",
              "          element.innerHTML = '';\n",
              "          dataTable['output_type'] = 'display_data';\n",
              "          await google.colab.output.renderOutput(dataTable, element);\n",
              "          const docLink = document.createElement('div');\n",
              "          docLink.innerHTML = docLinkHtml;\n",
              "          element.appendChild(docLink);\n",
              "        }\n",
              "      </script>\n",
              "    </div>\n",
              "  </div>\n",
              "  "
            ]
          },
          "metadata": {},
          "execution_count": 39
        }
      ]
    },
    {
      "cell_type": "code",
      "source": [
        "df.describe()"
      ],
      "metadata": {
        "colab": {
          "base_uri": "https://localhost:8080/",
          "height": 394
        },
        "id": "8rgAzFUz1XfL",
        "outputId": "05d89025-4ebc-4bdb-be1d-d93a3e41449f"
      },
      "execution_count": 40,
      "outputs": [
        {
          "output_type": "execute_result",
          "data": {
            "text/plain": [
              "                 ID   Year_Birth         Income      Kidhome     Teenhome  \\\n",
              "count   2216.000000  2216.000000    2216.000000  2216.000000  2216.000000   \n",
              "mean    5588.353339  1968.820397   52247.251354     0.441787     0.505415   \n",
              "std     3249.376275    11.985554   25173.076661     0.536896     0.544181   \n",
              "min        0.000000  1893.000000    1730.000000     0.000000     0.000000   \n",
              "25%     2814.750000  1959.000000   35303.000000     0.000000     0.000000   \n",
              "50%     5458.500000  1970.000000   51381.500000     0.000000     0.000000   \n",
              "75%     8421.750000  1977.000000   68522.000000     1.000000     1.000000   \n",
              "max    11191.000000  1996.000000  666666.000000     2.000000     2.000000   \n",
              "\n",
              "           Recency     MntWines    MntFruits  MntMeatProducts  \\\n",
              "count  2216.000000  2216.000000  2216.000000      2216.000000   \n",
              "mean     49.012635   305.091606    26.356047       166.995939   \n",
              "std      28.948352   337.327920    39.793917       224.283273   \n",
              "min       0.000000     0.000000     0.000000         0.000000   \n",
              "25%      24.000000    24.000000     2.000000        16.000000   \n",
              "50%      49.000000   174.500000     8.000000        68.000000   \n",
              "75%      74.000000   505.000000    33.000000       232.250000   \n",
              "max      99.000000  1493.000000   199.000000      1725.000000   \n",
              "\n",
              "       MntFishProducts  ...  NumWebVisitsMonth  AcceptedCmp3  AcceptedCmp4  \\\n",
              "count      2216.000000  ...        2216.000000   2216.000000   2216.000000   \n",
              "mean         37.637635  ...           5.319043      0.073556      0.074007   \n",
              "std          54.752082  ...           2.425359      0.261106      0.261842   \n",
              "min           0.000000  ...           0.000000      0.000000      0.000000   \n",
              "25%           3.000000  ...           3.000000      0.000000      0.000000   \n",
              "50%          12.000000  ...           6.000000      0.000000      0.000000   \n",
              "75%          50.000000  ...           7.000000      0.000000      0.000000   \n",
              "max         259.000000  ...          20.000000      1.000000      1.000000   \n",
              "\n",
              "       AcceptedCmp5  AcceptedCmp1  AcceptedCmp2     Complain  Z_CostContact  \\\n",
              "count   2216.000000   2216.000000   2216.000000  2216.000000         2216.0   \n",
              "mean       0.073105      0.064079      0.013538     0.009477            3.0   \n",
              "std        0.260367      0.244950      0.115588     0.096907            0.0   \n",
              "min        0.000000      0.000000      0.000000     0.000000            3.0   \n",
              "25%        0.000000      0.000000      0.000000     0.000000            3.0   \n",
              "50%        0.000000      0.000000      0.000000     0.000000            3.0   \n",
              "75%        0.000000      0.000000      0.000000     0.000000            3.0   \n",
              "max        1.000000      1.000000      1.000000     1.000000            3.0   \n",
              "\n",
              "       Z_Revenue     Response  \n",
              "count     2216.0  2216.000000  \n",
              "mean        11.0     0.150271  \n",
              "std          0.0     0.357417  \n",
              "min         11.0     0.000000  \n",
              "25%         11.0     0.000000  \n",
              "50%         11.0     0.000000  \n",
              "75%         11.0     0.000000  \n",
              "max         11.0     1.000000  \n",
              "\n",
              "[8 rows x 26 columns]"
            ],
            "text/html": [
              "\n",
              "  <div id=\"df-99e1412e-9b15-40f0-8a1d-43f5b5359fd6\">\n",
              "    <div class=\"colab-df-container\">\n",
              "      <div>\n",
              "<style scoped>\n",
              "    .dataframe tbody tr th:only-of-type {\n",
              "        vertical-align: middle;\n",
              "    }\n",
              "\n",
              "    .dataframe tbody tr th {\n",
              "        vertical-align: top;\n",
              "    }\n",
              "\n",
              "    .dataframe thead th {\n",
              "        text-align: right;\n",
              "    }\n",
              "</style>\n",
              "<table border=\"1\" class=\"dataframe\">\n",
              "  <thead>\n",
              "    <tr style=\"text-align: right;\">\n",
              "      <th></th>\n",
              "      <th>ID</th>\n",
              "      <th>Year_Birth</th>\n",
              "      <th>Income</th>\n",
              "      <th>Kidhome</th>\n",
              "      <th>Teenhome</th>\n",
              "      <th>Recency</th>\n",
              "      <th>MntWines</th>\n",
              "      <th>MntFruits</th>\n",
              "      <th>MntMeatProducts</th>\n",
              "      <th>MntFishProducts</th>\n",
              "      <th>...</th>\n",
              "      <th>NumWebVisitsMonth</th>\n",
              "      <th>AcceptedCmp3</th>\n",
              "      <th>AcceptedCmp4</th>\n",
              "      <th>AcceptedCmp5</th>\n",
              "      <th>AcceptedCmp1</th>\n",
              "      <th>AcceptedCmp2</th>\n",
              "      <th>Complain</th>\n",
              "      <th>Z_CostContact</th>\n",
              "      <th>Z_Revenue</th>\n",
              "      <th>Response</th>\n",
              "    </tr>\n",
              "  </thead>\n",
              "  <tbody>\n",
              "    <tr>\n",
              "      <th>count</th>\n",
              "      <td>2216.000000</td>\n",
              "      <td>2216.000000</td>\n",
              "      <td>2216.000000</td>\n",
              "      <td>2216.000000</td>\n",
              "      <td>2216.000000</td>\n",
              "      <td>2216.000000</td>\n",
              "      <td>2216.000000</td>\n",
              "      <td>2216.000000</td>\n",
              "      <td>2216.000000</td>\n",
              "      <td>2216.000000</td>\n",
              "      <td>...</td>\n",
              "      <td>2216.000000</td>\n",
              "      <td>2216.000000</td>\n",
              "      <td>2216.000000</td>\n",
              "      <td>2216.000000</td>\n",
              "      <td>2216.000000</td>\n",
              "      <td>2216.000000</td>\n",
              "      <td>2216.000000</td>\n",
              "      <td>2216.0</td>\n",
              "      <td>2216.0</td>\n",
              "      <td>2216.000000</td>\n",
              "    </tr>\n",
              "    <tr>\n",
              "      <th>mean</th>\n",
              "      <td>5588.353339</td>\n",
              "      <td>1968.820397</td>\n",
              "      <td>52247.251354</td>\n",
              "      <td>0.441787</td>\n",
              "      <td>0.505415</td>\n",
              "      <td>49.012635</td>\n",
              "      <td>305.091606</td>\n",
              "      <td>26.356047</td>\n",
              "      <td>166.995939</td>\n",
              "      <td>37.637635</td>\n",
              "      <td>...</td>\n",
              "      <td>5.319043</td>\n",
              "      <td>0.073556</td>\n",
              "      <td>0.074007</td>\n",
              "      <td>0.073105</td>\n",
              "      <td>0.064079</td>\n",
              "      <td>0.013538</td>\n",
              "      <td>0.009477</td>\n",
              "      <td>3.0</td>\n",
              "      <td>11.0</td>\n",
              "      <td>0.150271</td>\n",
              "    </tr>\n",
              "    <tr>\n",
              "      <th>std</th>\n",
              "      <td>3249.376275</td>\n",
              "      <td>11.985554</td>\n",
              "      <td>25173.076661</td>\n",
              "      <td>0.536896</td>\n",
              "      <td>0.544181</td>\n",
              "      <td>28.948352</td>\n",
              "      <td>337.327920</td>\n",
              "      <td>39.793917</td>\n",
              "      <td>224.283273</td>\n",
              "      <td>54.752082</td>\n",
              "      <td>...</td>\n",
              "      <td>2.425359</td>\n",
              "      <td>0.261106</td>\n",
              "      <td>0.261842</td>\n",
              "      <td>0.260367</td>\n",
              "      <td>0.244950</td>\n",
              "      <td>0.115588</td>\n",
              "      <td>0.096907</td>\n",
              "      <td>0.0</td>\n",
              "      <td>0.0</td>\n",
              "      <td>0.357417</td>\n",
              "    </tr>\n",
              "    <tr>\n",
              "      <th>min</th>\n",
              "      <td>0.000000</td>\n",
              "      <td>1893.000000</td>\n",
              "      <td>1730.000000</td>\n",
              "      <td>0.000000</td>\n",
              "      <td>0.000000</td>\n",
              "      <td>0.000000</td>\n",
              "      <td>0.000000</td>\n",
              "      <td>0.000000</td>\n",
              "      <td>0.000000</td>\n",
              "      <td>0.000000</td>\n",
              "      <td>...</td>\n",
              "      <td>0.000000</td>\n",
              "      <td>0.000000</td>\n",
              "      <td>0.000000</td>\n",
              "      <td>0.000000</td>\n",
              "      <td>0.000000</td>\n",
              "      <td>0.000000</td>\n",
              "      <td>0.000000</td>\n",
              "      <td>3.0</td>\n",
              "      <td>11.0</td>\n",
              "      <td>0.000000</td>\n",
              "    </tr>\n",
              "    <tr>\n",
              "      <th>25%</th>\n",
              "      <td>2814.750000</td>\n",
              "      <td>1959.000000</td>\n",
              "      <td>35303.000000</td>\n",
              "      <td>0.000000</td>\n",
              "      <td>0.000000</td>\n",
              "      <td>24.000000</td>\n",
              "      <td>24.000000</td>\n",
              "      <td>2.000000</td>\n",
              "      <td>16.000000</td>\n",
              "      <td>3.000000</td>\n",
              "      <td>...</td>\n",
              "      <td>3.000000</td>\n",
              "      <td>0.000000</td>\n",
              "      <td>0.000000</td>\n",
              "      <td>0.000000</td>\n",
              "      <td>0.000000</td>\n",
              "      <td>0.000000</td>\n",
              "      <td>0.000000</td>\n",
              "      <td>3.0</td>\n",
              "      <td>11.0</td>\n",
              "      <td>0.000000</td>\n",
              "    </tr>\n",
              "    <tr>\n",
              "      <th>50%</th>\n",
              "      <td>5458.500000</td>\n",
              "      <td>1970.000000</td>\n",
              "      <td>51381.500000</td>\n",
              "      <td>0.000000</td>\n",
              "      <td>0.000000</td>\n",
              "      <td>49.000000</td>\n",
              "      <td>174.500000</td>\n",
              "      <td>8.000000</td>\n",
              "      <td>68.000000</td>\n",
              "      <td>12.000000</td>\n",
              "      <td>...</td>\n",
              "      <td>6.000000</td>\n",
              "      <td>0.000000</td>\n",
              "      <td>0.000000</td>\n",
              "      <td>0.000000</td>\n",
              "      <td>0.000000</td>\n",
              "      <td>0.000000</td>\n",
              "      <td>0.000000</td>\n",
              "      <td>3.0</td>\n",
              "      <td>11.0</td>\n",
              "      <td>0.000000</td>\n",
              "    </tr>\n",
              "    <tr>\n",
              "      <th>75%</th>\n",
              "      <td>8421.750000</td>\n",
              "      <td>1977.000000</td>\n",
              "      <td>68522.000000</td>\n",
              "      <td>1.000000</td>\n",
              "      <td>1.000000</td>\n",
              "      <td>74.000000</td>\n",
              "      <td>505.000000</td>\n",
              "      <td>33.000000</td>\n",
              "      <td>232.250000</td>\n",
              "      <td>50.000000</td>\n",
              "      <td>...</td>\n",
              "      <td>7.000000</td>\n",
              "      <td>0.000000</td>\n",
              "      <td>0.000000</td>\n",
              "      <td>0.000000</td>\n",
              "      <td>0.000000</td>\n",
              "      <td>0.000000</td>\n",
              "      <td>0.000000</td>\n",
              "      <td>3.0</td>\n",
              "      <td>11.0</td>\n",
              "      <td>0.000000</td>\n",
              "    </tr>\n",
              "    <tr>\n",
              "      <th>max</th>\n",
              "      <td>11191.000000</td>\n",
              "      <td>1996.000000</td>\n",
              "      <td>666666.000000</td>\n",
              "      <td>2.000000</td>\n",
              "      <td>2.000000</td>\n",
              "      <td>99.000000</td>\n",
              "      <td>1493.000000</td>\n",
              "      <td>199.000000</td>\n",
              "      <td>1725.000000</td>\n",
              "      <td>259.000000</td>\n",
              "      <td>...</td>\n",
              "      <td>20.000000</td>\n",
              "      <td>1.000000</td>\n",
              "      <td>1.000000</td>\n",
              "      <td>1.000000</td>\n",
              "      <td>1.000000</td>\n",
              "      <td>1.000000</td>\n",
              "      <td>1.000000</td>\n",
              "      <td>3.0</td>\n",
              "      <td>11.0</td>\n",
              "      <td>1.000000</td>\n",
              "    </tr>\n",
              "  </tbody>\n",
              "</table>\n",
              "<p>8 rows × 26 columns</p>\n",
              "</div>\n",
              "      <button class=\"colab-df-convert\" onclick=\"convertToInteractive('df-99e1412e-9b15-40f0-8a1d-43f5b5359fd6')\"\n",
              "              title=\"Convert this dataframe to an interactive table.\"\n",
              "              style=\"display:none;\">\n",
              "        \n",
              "  <svg xmlns=\"http://www.w3.org/2000/svg\" height=\"24px\"viewBox=\"0 0 24 24\"\n",
              "       width=\"24px\">\n",
              "    <path d=\"M0 0h24v24H0V0z\" fill=\"none\"/>\n",
              "    <path d=\"M18.56 5.44l.94 2.06.94-2.06 2.06-.94-2.06-.94-.94-2.06-.94 2.06-2.06.94zm-11 1L8.5 8.5l.94-2.06 2.06-.94-2.06-.94L8.5 2.5l-.94 2.06-2.06.94zm10 10l.94 2.06.94-2.06 2.06-.94-2.06-.94-.94-2.06-.94 2.06-2.06.94z\"/><path d=\"M17.41 7.96l-1.37-1.37c-.4-.4-.92-.59-1.43-.59-.52 0-1.04.2-1.43.59L10.3 9.45l-7.72 7.72c-.78.78-.78 2.05 0 2.83L4 21.41c.39.39.9.59 1.41.59.51 0 1.02-.2 1.41-.59l7.78-7.78 2.81-2.81c.8-.78.8-2.07 0-2.86zM5.41 20L4 18.59l7.72-7.72 1.47 1.35L5.41 20z\"/>\n",
              "  </svg>\n",
              "      </button>\n",
              "      \n",
              "  <style>\n",
              "    .colab-df-container {\n",
              "      display:flex;\n",
              "      flex-wrap:wrap;\n",
              "      gap: 12px;\n",
              "    }\n",
              "\n",
              "    .colab-df-convert {\n",
              "      background-color: #E8F0FE;\n",
              "      border: none;\n",
              "      border-radius: 50%;\n",
              "      cursor: pointer;\n",
              "      display: none;\n",
              "      fill: #1967D2;\n",
              "      height: 32px;\n",
              "      padding: 0 0 0 0;\n",
              "      width: 32px;\n",
              "    }\n",
              "\n",
              "    .colab-df-convert:hover {\n",
              "      background-color: #E2EBFA;\n",
              "      box-shadow: 0px 1px 2px rgba(60, 64, 67, 0.3), 0px 1px 3px 1px rgba(60, 64, 67, 0.15);\n",
              "      fill: #174EA6;\n",
              "    }\n",
              "\n",
              "    [theme=dark] .colab-df-convert {\n",
              "      background-color: #3B4455;\n",
              "      fill: #D2E3FC;\n",
              "    }\n",
              "\n",
              "    [theme=dark] .colab-df-convert:hover {\n",
              "      background-color: #434B5C;\n",
              "      box-shadow: 0px 1px 3px 1px rgba(0, 0, 0, 0.15);\n",
              "      filter: drop-shadow(0px 1px 2px rgba(0, 0, 0, 0.3));\n",
              "      fill: #FFFFFF;\n",
              "    }\n",
              "  </style>\n",
              "\n",
              "      <script>\n",
              "        const buttonEl =\n",
              "          document.querySelector('#df-99e1412e-9b15-40f0-8a1d-43f5b5359fd6 button.colab-df-convert');\n",
              "        buttonEl.style.display =\n",
              "          google.colab.kernel.accessAllowed ? 'block' : 'none';\n",
              "\n",
              "        async function convertToInteractive(key) {\n",
              "          const element = document.querySelector('#df-99e1412e-9b15-40f0-8a1d-43f5b5359fd6');\n",
              "          const dataTable =\n",
              "            await google.colab.kernel.invokeFunction('convertToInteractive',\n",
              "                                                     [key], {});\n",
              "          if (!dataTable) return;\n",
              "\n",
              "          const docLinkHtml = 'Like what you see? Visit the ' +\n",
              "            '<a target=\"_blank\" href=https://colab.research.google.com/notebooks/data_table.ipynb>data table notebook</a>'\n",
              "            + ' to learn more about interactive tables.';\n",
              "          element.innerHTML = '';\n",
              "          dataTable['output_type'] = 'display_data';\n",
              "          await google.colab.output.renderOutput(dataTable, element);\n",
              "          const docLink = document.createElement('div');\n",
              "          docLink.innerHTML = docLinkHtml;\n",
              "          element.appendChild(docLink);\n",
              "        }\n",
              "      </script>\n",
              "    </div>\n",
              "  </div>\n",
              "  "
            ]
          },
          "metadata": {},
          "execution_count": 40
        }
      ]
    },
    {
      "cell_type": "code",
      "source": [
        "df.select_dtypes('object').describe()"
      ],
      "metadata": {
        "colab": {
          "base_uri": "https://localhost:8080/",
          "height": 175
        },
        "id": "o5XHolZr23aO",
        "outputId": "0af5858f-dba7-431c-d857-8caf4a6ca556"
      },
      "execution_count": 41,
      "outputs": [
        {
          "output_type": "execute_result",
          "data": {
            "text/plain": [
              "         Education Marital_Status Dt_Customer\n",
              "count         2216           2216        2216\n",
              "unique           5              8         662\n",
              "top     Graduation        Married  31-08-2012\n",
              "freq          1116            857          12"
            ],
            "text/html": [
              "\n",
              "  <div id=\"df-52afc1da-3a66-4c5e-9180-f09cb0a60c28\">\n",
              "    <div class=\"colab-df-container\">\n",
              "      <div>\n",
              "<style scoped>\n",
              "    .dataframe tbody tr th:only-of-type {\n",
              "        vertical-align: middle;\n",
              "    }\n",
              "\n",
              "    .dataframe tbody tr th {\n",
              "        vertical-align: top;\n",
              "    }\n",
              "\n",
              "    .dataframe thead th {\n",
              "        text-align: right;\n",
              "    }\n",
              "</style>\n",
              "<table border=\"1\" class=\"dataframe\">\n",
              "  <thead>\n",
              "    <tr style=\"text-align: right;\">\n",
              "      <th></th>\n",
              "      <th>Education</th>\n",
              "      <th>Marital_Status</th>\n",
              "      <th>Dt_Customer</th>\n",
              "    </tr>\n",
              "  </thead>\n",
              "  <tbody>\n",
              "    <tr>\n",
              "      <th>count</th>\n",
              "      <td>2216</td>\n",
              "      <td>2216</td>\n",
              "      <td>2216</td>\n",
              "    </tr>\n",
              "    <tr>\n",
              "      <th>unique</th>\n",
              "      <td>5</td>\n",
              "      <td>8</td>\n",
              "      <td>662</td>\n",
              "    </tr>\n",
              "    <tr>\n",
              "      <th>top</th>\n",
              "      <td>Graduation</td>\n",
              "      <td>Married</td>\n",
              "      <td>31-08-2012</td>\n",
              "    </tr>\n",
              "    <tr>\n",
              "      <th>freq</th>\n",
              "      <td>1116</td>\n",
              "      <td>857</td>\n",
              "      <td>12</td>\n",
              "    </tr>\n",
              "  </tbody>\n",
              "</table>\n",
              "</div>\n",
              "      <button class=\"colab-df-convert\" onclick=\"convertToInteractive('df-52afc1da-3a66-4c5e-9180-f09cb0a60c28')\"\n",
              "              title=\"Convert this dataframe to an interactive table.\"\n",
              "              style=\"display:none;\">\n",
              "        \n",
              "  <svg xmlns=\"http://www.w3.org/2000/svg\" height=\"24px\"viewBox=\"0 0 24 24\"\n",
              "       width=\"24px\">\n",
              "    <path d=\"M0 0h24v24H0V0z\" fill=\"none\"/>\n",
              "    <path d=\"M18.56 5.44l.94 2.06.94-2.06 2.06-.94-2.06-.94-.94-2.06-.94 2.06-2.06.94zm-11 1L8.5 8.5l.94-2.06 2.06-.94-2.06-.94L8.5 2.5l-.94 2.06-2.06.94zm10 10l.94 2.06.94-2.06 2.06-.94-2.06-.94-.94-2.06-.94 2.06-2.06.94z\"/><path d=\"M17.41 7.96l-1.37-1.37c-.4-.4-.92-.59-1.43-.59-.52 0-1.04.2-1.43.59L10.3 9.45l-7.72 7.72c-.78.78-.78 2.05 0 2.83L4 21.41c.39.39.9.59 1.41.59.51 0 1.02-.2 1.41-.59l7.78-7.78 2.81-2.81c.8-.78.8-2.07 0-2.86zM5.41 20L4 18.59l7.72-7.72 1.47 1.35L5.41 20z\"/>\n",
              "  </svg>\n",
              "      </button>\n",
              "      \n",
              "  <style>\n",
              "    .colab-df-container {\n",
              "      display:flex;\n",
              "      flex-wrap:wrap;\n",
              "      gap: 12px;\n",
              "    }\n",
              "\n",
              "    .colab-df-convert {\n",
              "      background-color: #E8F0FE;\n",
              "      border: none;\n",
              "      border-radius: 50%;\n",
              "      cursor: pointer;\n",
              "      display: none;\n",
              "      fill: #1967D2;\n",
              "      height: 32px;\n",
              "      padding: 0 0 0 0;\n",
              "      width: 32px;\n",
              "    }\n",
              "\n",
              "    .colab-df-convert:hover {\n",
              "      background-color: #E2EBFA;\n",
              "      box-shadow: 0px 1px 2px rgba(60, 64, 67, 0.3), 0px 1px 3px 1px rgba(60, 64, 67, 0.15);\n",
              "      fill: #174EA6;\n",
              "    }\n",
              "\n",
              "    [theme=dark] .colab-df-convert {\n",
              "      background-color: #3B4455;\n",
              "      fill: #D2E3FC;\n",
              "    }\n",
              "\n",
              "    [theme=dark] .colab-df-convert:hover {\n",
              "      background-color: #434B5C;\n",
              "      box-shadow: 0px 1px 3px 1px rgba(0, 0, 0, 0.15);\n",
              "      filter: drop-shadow(0px 1px 2px rgba(0, 0, 0, 0.3));\n",
              "      fill: #FFFFFF;\n",
              "    }\n",
              "  </style>\n",
              "\n",
              "      <script>\n",
              "        const buttonEl =\n",
              "          document.querySelector('#df-52afc1da-3a66-4c5e-9180-f09cb0a60c28 button.colab-df-convert');\n",
              "        buttonEl.style.display =\n",
              "          google.colab.kernel.accessAllowed ? 'block' : 'none';\n",
              "\n",
              "        async function convertToInteractive(key) {\n",
              "          const element = document.querySelector('#df-52afc1da-3a66-4c5e-9180-f09cb0a60c28');\n",
              "          const dataTable =\n",
              "            await google.colab.kernel.invokeFunction('convertToInteractive',\n",
              "                                                     [key], {});\n",
              "          if (!dataTable) return;\n",
              "\n",
              "          const docLinkHtml = 'Like what you see? Visit the ' +\n",
              "            '<a target=\"_blank\" href=https://colab.research.google.com/notebooks/data_table.ipynb>data table notebook</a>'\n",
              "            + ' to learn more about interactive tables.';\n",
              "          element.innerHTML = '';\n",
              "          dataTable['output_type'] = 'display_data';\n",
              "          await google.colab.output.renderOutput(dataTable, element);\n",
              "          const docLink = document.createElement('div');\n",
              "          docLink.innerHTML = docLinkHtml;\n",
              "          element.appendChild(docLink);\n",
              "        }\n",
              "      </script>\n",
              "    </div>\n",
              "  </div>\n",
              "  "
            ]
          },
          "metadata": {},
          "execution_count": 41
        }
      ]
    },
    {
      "cell_type": "markdown",
      "source": [
        "# Visualization"
      ],
      "metadata": {
        "id": "piY3v_YxId39"
      }
    },
    {
      "cell_type": "markdown",
      "source": [
        "## Histogram"
      ],
      "metadata": {
        "id": "Ao0PJpYfInMA"
      }
    },
    {
      "cell_type": "code",
      "source": [
        "sns.displot(df['Income']) # Visualize histogram"
      ],
      "metadata": {
        "colab": {
          "base_uri": "https://localhost:8080/",
          "height": 386
        },
        "id": "fphPtLbEIqMg",
        "outputId": "d6c80b02-5bfb-4488-e59c-e141dcbd4eac"
      },
      "execution_count": 42,
      "outputs": [
        {
          "output_type": "execute_result",
          "data": {
            "text/plain": [
              "<seaborn.axisgrid.FacetGrid at 0x7f81c66cc710>"
            ]
          },
          "metadata": {},
          "execution_count": 42
        },
        {
          "output_type": "display_data",
          "data": {
            "text/plain": [
              "<Figure size 360x360 with 1 Axes>"
            ],
            "image/png": "[encoded data removed]"
          },
          "metadata": {
            "needs_background": "light"
          }
        }
      ]
    },
    {
      "cell_type": "markdown",
      "source": [
        "## Barchart"
      ],
      "metadata": {
        "id": "7Y3Vkr4mIzeq"
      }
    },
    {
      "cell_type": "code",
      "source": [
        "count_education = df['Education'].value_counts().reset_index()\n",
        "\n",
        "sns.barplot(x=count_education['index'],y=count_education['Education']) # Menampilkan barchart\n",
        "plt.show() "
      ],
      "metadata": {
        "colab": {
          "base_uri": "https://localhost:8080/",
          "height": 279
        },
        "id": "MNhA4OMzI1Yk",
        "outputId": "66989d85-2246-4934-d25c-2dd27529a258"
      },
      "execution_count": 43,
      "outputs": [
        {
          "output_type": "display_data",
          "data": {
            "text/plain": [
              "<Figure size 432x288 with 1 Axes>"
            ],
            "image/png": "[encoded data removed]"
          },
          "metadata": {
            "needs_background": "light"
          }
        }
      ]
    },
    {
      "cell_type": "markdown",
      "source": [
        "## Boxplot"
      ],
      "metadata": {
        "id": "lX6EPdL0J5cx"
      }
    },
    {
      "cell_type": "code",
      "source": [
        "sns.boxplot(x=df['Education'] ,y=df['Income']) # Visualize boxplot\n",
        "plt.show() "
      ],
      "metadata": {
        "colab": {
          "base_uri": "https://localhost:8080/",
          "height": 279
        },
        "id": "lpxR9xZ6J8H-",
        "outputId": "964d5c2d-7807-477e-9a64-428f1b700786"
      },
      "execution_count": 44,
      "outputs": [
        {
          "output_type": "display_data",
          "data": {
            "text/plain": [
              "<Figure size 432x288 with 1 Axes>"
            ],
            "image/png": "[encoded data removed]"
          },
          "metadata": {
            "needs_background": "light"
          }
        }
      ]
    },
    {
      "cell_type": "markdown",
      "source": [
        "# Measure of Central Tendency"
      ],
      "metadata": {
        "id": "C-g6jWikKPSU"
      }
    },
    {
      "cell_type": "code",
      "source": [
        "income_mean = df['Income'].mean()\n",
        "income_median = df['Income'].median()\n",
        "income_mode = df['Income'].mode()[0]\n",
        "\n",
        "print('Mean:',income_mean)\n",
        "print('Median:',income_median)\n",
        "print('Mode:',income_mode)"
      ],
      "metadata": {
        "colab": {
          "base_uri": "https://localhost:8080/"
        },
        "id": "8e87fn-iKYg4",
        "outputId": "bef93825-66bd-4472-f8bb-05c874c57c5c"
      },
      "execution_count": 45,
      "outputs": [
        {
          "output_type": "stream",
          "name": "stdout",
          "text": [
            "Mean: 52247.25135379061\n",
            "Median: 51381.5\n",
            "Mode: 7500.0\n"
          ]
        }
      ]
    },
    {
      "cell_type": "markdown",
      "source": [
        "# Measure of Spread"
      ],
      "metadata": {
        "id": "Vf-OQUAYLAbV"
      }
    },
    {
      "cell_type": "code",
      "source": [
        "income_var = df['Income'].var()\n",
        "income_sd = df['Income'].std()\n",
        "income_sd_sqrt = np.sqrt(df['Income'].var())\n",
        "\n",
        "print('Variance:',income_var)\n",
        "print('Standard Deviation:',income_sd)\n",
        "print('Standard Deviation (Variance Square Root):',income_sd_sqrt)"
      ],
      "metadata": {
        "colab": {
          "base_uri": "https://localhost:8080/"
        },
        "id": "CO0qwJUHLC6b",
        "outputId": "8d88f773-bab3-4f3e-bc39-1906952ef25f"
      },
      "execution_count": 46,
      "outputs": [
        {
          "output_type": "stream",
          "name": "stdout",
          "text": [
            "Variance: 633683788.5756189\n",
            "Standard Deviation: 25173.076660901403\n",
            "Standard Deviation (Variance Square Root): 25173.076660901403\n"
          ]
        }
      ]
    },
    {
      "cell_type": "markdown",
      "source": [
        "# Pengujian Hipotesis (ANOVA)"
      ],
      "metadata": {
        "id": "YC4F_qkmM2tO"
      }
    },
    {
      "cell_type": "code",
      "source": [
        "df['Education'].value_counts()"
      ],
      "metadata": {
        "colab": {
          "base_uri": "https://localhost:8080/"
        },
        "id": "0O27z5UtNBZA",
        "outputId": "5f314b8c-73a8-4c76-b65a-d3dfc1fadb64"
      },
      "execution_count": 47,
      "outputs": [
        {
          "output_type": "execute_result",
          "data": {
            "text/plain": [
              "Graduation    1116\n",
              "PhD            481\n",
              "Master         365\n",
              "2n Cycle       200\n",
              "Basic           54\n",
              "Name: Education, dtype: int64"
            ]
          },
          "metadata": {},
          "execution_count": 47
        }
      ]
    },
    {
      "cell_type": "markdown",
      "source": [
        "## Step 1 : Determine the hypothesis"
      ],
      "metadata": {
        "id": "a3__Bg8DNSis"
      }
    },
    {
      "cell_type": "markdown",
      "source": [
        "H0 : Education has no effect on income"
      ],
      "metadata": {
        "id": "dL4TCqDGNeFZ"
      }
    },
    {
      "cell_type": "markdown",
      "source": [
        "H1 : Education has effect on income"
      ],
      "metadata": {
        "id": "Ro6EhAzON2bQ"
      }
    },
    {
      "cell_type": "markdown",
      "source": [
        "## Langkah 2 : Look at Mean"
      ],
      "metadata": {
        "id": "CzOFRDcuNtNt"
      }
    },
    {
      "cell_type": "code",
      "source": [
        "print('Mean')\n",
        "print(df.groupby(['Education'])['Income'].mean())"
      ],
      "metadata": {
        "colab": {
          "base_uri": "https://localhost:8080/"
        },
        "id": "YjF1qS2bjVmh",
        "outputId": "837f3dde-7916-4b27-f5c0-a25cfdcdc166"
      },
      "execution_count": 48,
      "outputs": [
        {
          "output_type": "stream",
          "name": "stdout",
          "text": [
            "Mean\n",
            "Education\n",
            "2n Cycle      47633.190000\n",
            "Basic         20306.259259\n",
            "Graduation    52720.373656\n",
            "Master        52917.534247\n",
            "PhD           56145.313929\n",
            "Name: Income, dtype: float64\n"
          ]
        }
      ]
    },
    {
      "cell_type": "markdown",
      "source": [
        "## Langkah 3 : Calculate P-value"
      ],
      "metadata": {
        "id": "xLszKPMnk9PV"
      }
    },
    {
      "cell_type": "code",
      "source": [
        "df_graduation = df[df['Education']=='Graduation']\n",
        "df_master = df[df['Education']=='Master']\n",
        "df_phd = df[df['Education']=='PhD']\n",
        "df_basic = df[df['Education']=='Basic']\n",
        "df_2ncycle = df[df['Education']=='2n Cycle']\n",
        "\n",
        "anova_result=st.f_oneway(df_graduation['Income'],df_master['Income'],df_phd['Income'],df_basic['Income'],df_2ncycle['Income'])\n",
        "p_value=anova_result.pvalue\n",
        "\n",
        "p_value"
      ],
      "metadata": {
        "colab": {
          "base_uri": "https://localhost:8080/"
        },
        "id": "0OptWrQMnaV7",
        "outputId": "61841631-aab4-4fc9-f946-f248dd4682f5"
      },
      "execution_count": 49,
      "outputs": [
        {
          "output_type": "execute_result",
          "data": {
            "text/plain": [
              "1.6677281316366318e-22"
            ]
          },
          "metadata": {},
          "execution_count": 49
        }
      ]
    },
    {
      "cell_type": "markdown",
      "source": [
        "## Langkah 4 : Take Decision"
      ],
      "metadata": {
        "id": "BWgnnJIc1T4l"
      }
    },
    {
      "cell_type": "code",
      "source": [
        "if p_value > 0.05:\n",
        "    print('Education has no effect on Income')\n",
        "else:\n",
        "    print('Education has effect on Income')"
      ],
      "metadata": {
        "colab": {
          "base_uri": "https://localhost:8080/"
        },
        "id": "9KtvlrbQw1BP",
        "outputId": "16e75210-ce64-469f-bccc-1311dac254a4"
      },
      "execution_count": 50,
      "outputs": [
        {
          "output_type": "stream",
          "name": "stdout",
          "text": [
            "Education has effect on Income\n"
          ]
        }
      ]
    }
  ]
}